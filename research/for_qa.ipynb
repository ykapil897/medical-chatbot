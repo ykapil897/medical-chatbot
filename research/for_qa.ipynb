{
 "cells": [
  {
   "cell_type": "code",
   "execution_count": 1,
   "metadata": {},
   "outputs": [
    {
     "name": "stderr",
     "output_type": "stream",
     "text": [
      "c:\\Projects\\medical-chatbot-llama2\\medical-chatbot-using-llama2\\env\\lib\\site-packages\\pinecone\\data\\index.py:1: TqdmWarning: IProgress not found. Please update jupyter and ipywidgets. See https://ipywidgets.readthedocs.io/en/stable/user_install.html\n",
      "  from tqdm.autonotebook import tqdm\n"
     ]
    }
   ],
   "source": [
    "from langchain import PromptTemplate\n",
    "from langchain.chains import RetrievalQA\n",
    "from langchain.embeddings import HuggingFaceEmbeddings\n",
    "from langchain.vectorstores import Pinecone\n",
    "import pinecone\n",
    "from langchain.document_loaders import PyPDFLoader, DirectoryLoader\n",
    "from langchain.text_splitter import RecursiveCharacterTextSplitter\n",
    "from langchain.prompts import PromptTemplate\n",
    "from langchain.llms import CTransformers\n",
    "from langchain_pinecone import PineconeVectorStore"
   ]
  },
  {
   "cell_type": "code",
   "execution_count": 2,
   "metadata": {},
   "outputs": [],
   "source": [
    "import os\n",
    "from dotenv import load_dotenv\n",
    "\n",
    "load_dotenv()\n",
    "\n",
    "PINECONE_API_KEY = os.environ.get('PINECONE_API_KEY')\n",
    "PINECONE_API_ENV = os.environ.get('PINECONE_API_ENV')"
   ]
  },
  {
   "cell_type": "code",
   "execution_count": 3,
   "metadata": {},
   "outputs": [],
   "source": [
    "index_name = \"medical-chatbot\"\n",
    "embeddings = HuggingFaceEmbeddings(model_name=\"sentence-transformers/all-MiniLM-L6-v2\")"
   ]
  },
  {
   "cell_type": "code",
   "execution_count": 4,
   "metadata": {},
   "outputs": [
    {
     "data": {
      "text/plain": [
       "[Document(page_content='tion, an abscess which drains foul-smelling pus, and\\npossibly fever . Symptoms for specific infections are\\nas follows:\\n• Tooth and gum infections. Swollen, tender bleeding\\ngums, bad breath , and pain . Severe infections may\\nproduce oozing sores.\\n• Throat infection. An extremely sore throat , bad breath,\\na bad taste in the mouth, fever, and a sense of choking .\\n• Lung infection. Chest pain, coughing, difficulty breath-\\ning, fever, foul-smelling sputum, and weight loss.\\n• Intraabdominal infection. Pain, fever, and possibly, if fol-\\nlowing surgery, foul- smelling drainage from the wound.\\n• Pelvic infection. Foul-smelling pus or blood draining\\nfrom the uterus, general or localized pelvic pain, fever,and chills.\\n• Skin and soft tissue infection. Infected wounds are red,\\npainful, swollen, and may drain a foul-smelling pus.Skin infection causes localized swelling, pain, redness,and possibly a painful, open sore (ulcer) which drainsfoul-smelling pus. Severe skin infections may causeextensive tissue destruction (necrosis).\\n• Bloodstream. Bloodstream invasion causes high fever\\n(up to 105°F [40.6°C]), chills, a general ill feeling, andis potentially fatal.\\nDiagnosis\\nThe diagnosis of anaerobic infection is based pri-\\nmarily on symptoms, the patient’s medical history, andlocation of the infection. A foul-smelling infection ordrainage from an abscess is diagnostic of anaerobicinfection. This foul smell is produced by anaerobic bac-teria and occurs in one third to one half of patients late inthe infection. Other clues to anaerobic infection includetissue necrosis and gas production at the infection site. Asample from the infected site may be obtained, using aswab or a needle and syringe, to determine which bacte-ria is (are) causing the infection. Because these bacteriacan be easily killed by oxygen, they rarely grow in thelaboratory cultures of tissue or pus samples.KEY TERMS\\nAbscess —A lump filled with pus resulting from an\\ninfection.\\nAnaerobic —Living and growing in the absence of\\noxygen.\\nNecrosis —Tissue death and destruction resulting\\nfrom infection or disease.The recent medical history of the patient is helpful\\nin diagnosing anaerobic infection. A patient who has orrecently had surgery, dental work, tumors, blood vesseldisease, or injury are susceptible to this infection. Thefailure to improve following treatment with antibiotics\\nthat aren’t able to kill anaerobes is another clue that theinfection is caused by anaerobes. The location and typeof infection also help in the diagnosis.\\nDiagnostic tests may include blood tests to see if\\nbacteria are in the bloodstream and x rays to look atinternal infections.\\nTreatment\\nSerious infections may require hospitalization for\\ntreatment. Immediate antibiotic treatment of anaerobicinfections is necessary. Laboratory testing may identifythe bacteria causing the infection and also which antibi-otic will work best. Every antibiotic does not workagainst all anaerobic bacteria but nearly all anaerobes arekilled by chloramphenicol (Chloromycetin), metronida-zole (Flagyl or Protostat), and imipenem (Primaxin).Other antibiotics which may be used are clindamycin(Cleocin) or cefoxitin (Mefoxin).\\nSurgical removal or drainage of the abscess is\\nalmost always required. This may involve drainage byneedle and syringe to remove the pus from a skin abscess(called “aspiration”). The area would be numbed prior tothe aspiration procedure. Also, some internal abscessescan be drained using this procedure with the help ofultrasound (a device which uses sound waves to visualizeinternal organs). This type of abscess drainage may beperformed in the doctor’s office.\\nPrognosis\\nComplete recovery should be achieved with the\\nappropriate surgery and antibiotic treatment. Untreatedor uncontrolled infections can cause severe tissue andbone destruction, which would require plastic surgery torepair. Serious infections can be life threatening.\\nPrevention\\nAlthough anaerobic infections can occur in anyone,\\ngood hygiene and general health may help to preventinfections.\\nResources\\nBOOKS\\nHarrison’s Principles of Internal Medicine. Ed. Anthony S.\\nFauci, et al. New York: McGraw-Hill, 1997.\\nBelinda Rowland, PhD\\nGALE ENCYCLOPEDIA OF MEDICINE 2 168Anaerobic infectionsGEM - 0001 to 0432 - A  10/22/03 1:42 PM  Page 168', metadata={'page': 181.0, 'source': '..\\\\data\\\\Medical_book.pdf'}),\n",
       " Document(page_content='the inflammation and symptoms of appendicitis may dis-\\nappear but recur again later.\\nThe distinguishing symptom of appendicitis is pain\\nbeginning around or above the navel. The pain, whichmay be severe or only achy and uncomfortable, eventual-ly moves into the right lower corner of the abdomen.There, it becomes more steady and more severe, andoften increases with movement, coughing, and so forth.The abdomen often becomes rigid and tender to thetouch. Increasing rigidity and tenderness indicates anincreased likelihood of perforation and peritonitis.\\nLoss of appetite is very common. Nausea and vom-\\niting may occur in about half of the cases and occasion-\\nally there may be constipation or diarrhea . The temper-\\nature may be normal or slightly elevated. The presence ofa fever may indicate that the appendix has ruptured.\\nDiagnosis\\nA careful examination is the best way to diagnose\\nappendicitis. It is often difficult even for experiencedphysicians to distinguish the symptoms of appendicitisfrom those of other abdominal disorders. Therefore, veryspecific questioning and a thorough physical examina-\\ntion are crucial. The physician should ask questions,\\nsuch as where the pain is centered, whether the pain hasshifted, and where the pain began. The physician shouldpress on the abdomen to judge the location of the painand the degree of tenderness.\\nThe typical sequence of symptoms is present in about\\n50% of cases. In the other half of cases, less typical pat-terns may be seen, especially in pregnant women, olderpatients, and infants. In pregnant women, appendicitis iseasily masked by the frequent occurrence of mild abdom-inal pain and nausea from other causes. Elderly patientsmay feel less pain and tenderness than most patients,thereby delaying diagnosis and treatment, and leading torupture in 30% of cases. Infants and young children oftenhave diarrhea, vomiting, and fever in addition to pain.\\nWhile laboratory tests cannot establish the diagno-\\nsis, an increased white cell count may point to appendici-tis. Urinalysis may help to rule out a urinary tract infec-\\ntion that can mimic appendicitis.\\nPatients whose symptoms and physical examination\\nare compatible with a diagnosis of appendicitis are usual-ly taken immediately to surgery, where a laparotomy(surgical exploration of the abdomen) is done to confirmthe diagnosis. In cases with a questionable diagnosis,other tests, such as a computed tomography scan (CT)may be performed to avoid unnecessary surgery. Anultrasound examination of the abdomen may help toidentify an inflamed appendix or other condition thatwould explain the symptoms. Abdominal x-rays are not\\nof much value except when the appendix has ruptured.\\nOften, the diagnosis is not certain until an operation is\\ndone. To avoid a ruptured appendix, surgery may be recom-mended without delay if the symptoms point clearly toappendicitis. If the symptoms are not clear, surgery may bepostponed until they progress enough to confirm a diagnosis.\\nWhen appendicitis is strongly suspected in a woman\\nof child-bearing age, a diagnostic laparoscopy (an\\nexamination of the interior of the abdomen) is sometimesrecommended before the appendectomy in order to besure that a gynecological problem, such as a rupturedovarian cyst, is not causing the pain. In this procedure, alighted viewing tube is inserted into the abdomenthrough a small incision around the navel.\\nA normal appendix is discovered in about 10-20% of\\npatients who undergo laparotomy, because of suspectedappendicitis. Sometimes the surgeon will remove a nor-mal appendix as a safeguard against appendicitis in thefuture. During the surgery, another specific cause for thepain and symptoms of appendicitis is found for about30% of these patients.\\nTreatment\\nThe treatment of appendicitis is an immediate\\nappendectomy. This may be done by opening theabdomen in the standard open appendectomy technique,or through laparoscopy. In laparoscopy, a smaller inci-sion is made through the navel. Both methods can suc-cessfully accomplish the removal of the appendix. It isnot certain that laparoscopy holds any advantage overopen appendectomy. When the appendix has ruptured,patients undergoing a laparoscopic appendectomy mayhave to be switched to the open appendectomy procedurefor the successful management of the rupture. If a rup-tured appendix is left untreated, the condition is fatal.\\nPrognosis\\nAppendicitis is usually treated successfully by appen-\\ndectomy. Unless there are complications, the patient shouldrecover without further problems. The mortality rate incases without complications is less than 0.1%. When anappendix has ruptured, or a severe infection has developed,the likelihood is higher for complications, with slowerrecovery, or death from disease. There are higher rates ofperforation and mortality among children and the elderly.\\nPrevention\\nAppendicitis is probably not preventable, although\\nthere is some indication that a diet high in green vegeta-bles and tomatoes may help prevent appendicitis.\\nGALE ENCYCLOPEDIA OF MEDICINE 2 342AppendicitisGEM - 0001 to 0432 - A  10/22/03 1:42 PM  Page 342', metadata={'page': 355.0, 'source': '..\\\\data\\\\Medical_book.pdf'}),\n",
       " Document(page_content='agent to spill into the bloodstream, serious or fatal conse-\\nquences are likely. Abscesses in and around the nasalsinuses, face, ears, and scalp may work their way into thebrain. Abscesses within an abdominal organ such as theliver may rupture into the abdominal cavity. In eithercase, the result is life threatening. Blood poisoning is a\\nterm commonly used to describe an infection that hasspilled into the blood stream and spread throughout thebody from a localized origin. Blood poisoning, known tophysicians as septicemia, is also life threatening.\\nOf special note, abscesses in the hand are more seri-\\nous than they might appear. Due to the intricate structureand the overriding importance of the hand, any handinfection must be treated promptly and competently.\\nPrevention\\nInfections that are treated early with heat (if superfi-\\ncial) or antibiotics will often resolve without the forma-tion of an abscess. It is even better to avoid infectionsaltogether by taking prompt care of open injuries, partic-ularly puncture wounds . Bites are the most dangerous of\\nall, even more so because they often occur on the hand.\\nResources\\nBOOKS\\nBennett, J. Claude, and Fred Plum, eds. Cecil Textbook of Med-\\nicine. Philadelphia: W. B. Saunders Co., 1996.\\nCurrent Medical Diagnosis and Treatment, 1996. 35th ed. Ed.\\nStephen McPhee, et al. Stamford: Appleton & Lange, 1995.\\nHarrison’s Principles of Internal Medicine. Ed. Anthony S.\\nFauci, et al. New York: McGraw-Hill, 1997.\\nJ. Ricker Polsdorfer, MD\\nAbscess drainage seeAbscess incision and\\ndrainage\\nAbscess incision & drainage\\nDefinition\\nAn infected skin nodule that contains pus may need to\\nbe drained via a cut if it does not respond to antibiotics .\\nThis allows the pus to escape, and the infection to heal.\\nPurpose\\nAn abscess is a pus-filled sore, usually caused by a\\nbacterial infection. The pus is made up of both live anddead organisms and destroyed tissue from the whiteblood cells that were carried to the area to fight the infec-tion. Abscesses are often found in the soft tissue underthe skin, such as the armpit or the groin. However, theymay develop in any organ, and are commonly found inthe breast and gums. Abscesses are far more serious andcall for more specific treatment if they are located indeep organs such as the lung, liver or brain.\\nBecause the lining of the abscess cavity tends to\\ninterfere with the amount of the drug that can penetratethe source of infection from the blood, the cavity itselfmay require draining. Once an abscess has fully formed,it often does not respond to antibiotics. Even if theantibiotic does penetrate into the abscess, it doesn’t func-tion as well in that environment.\\nPrecautions\\nAn abscess can usually be diagnosed visually, al-\\nthough an imaging technique such as a computed tomog-raphy scan may be used to confirm the extent of theabscess before drainage. Such procedures may also beneeded to localize internal abscesses, such as those in theabdominal cavity or brain.\\nGALE ENCYCLOPEDIA OF MEDICINE 2 15Abcess incision & drainage\\nLiver\\nStomachSpleen\\nColonCommon sites of abscess \\nabove and below the liver\\nAlthough abscesses are often found in the soft tissue under\\nthe skin, such as the armpit or the groin, they may developin any organ, such as the liver. (Illustration by Electronic Illus-\\ntrators Group.)GEM - 0001 to 0432 - A  10/22/03 1:41 PM  Page 15', metadata={'page': 28.0, 'source': '..\\\\data\\\\Medical_book.pdf'}),\n",
       " Document(page_content='Adenoviruses also cause acute diarrhea in young\\nchildren, characterized by fever and watery stools. Thiscondition is caused by adenovirus types 40 and 41 andcan last as long as two weeks.\\nAs much as 51% of all hemorrhagic cystitis (inflam-\\nmation of the bladder and of the tubes that carry urine tothe bladder from the kidneys) in American and Japanesechildren can be attributed to adenovirus infection. Achild who has hemorrhagic cystitis has bloody urine forabout three days, and invisible traces of blood can befound in the urine a few days longer. The child will feelthe urge to urinate frequently—but find it difficult to doso—for about the same length of time.\\nAdult infections\\nIn adults, the most frequently reported adenovirus\\ninfection is acute respiratory disease (ARD, caused bytypes 4 and 7) in military recruits. Influenza-like symp-toms including fever, sore throat, runny nose, and cough\\nare almost always present; weakness, chills, headache ,\\nand swollen lymph glands in the neck may also occur.The symptoms typically last three to five days.\\nEpidemic keratoconjunctivitis (EKC, caused by ade-\\nnovirus types 8, 19, and 37) was first seen in shipyardworkers whose eyes had been slightly injured by chips ofrust or paint. This inflammation of tissues lining the eye-lid and covering the front of the eyeball can also becaused by using contaminated contact lens solutions orby drying the hands or face with a towel used by some-one who has this infection.\\nThe inflamed, sticky eyelids characteristic of con-\\njunctivitis develop 4-24 days after exposure and lastbetween one and four weeks. Only 5-8% of patients withepidemic keratoconjunctivitis experience respiratorysymptoms. One or both eyes may be affected. As symp-toms of conjunctivitis subside, eye pain and watering\\nand blurred vision develop. These symptoms of keratitis\\nmay last for several months, and about 10% of theseinfections spread to at least one other member of thepatient’s household.\\nOther illnesses associated with adenovirus include:\\n• encephalitis (inflammation of the brain) and other\\ninfections of the central nervous system (CNS)\\n• gastroenteritis (inflammation of the stomach and intes-\\ntines)\\n• acute mesenteric lymphadenitis (inflammation of\\nlymph glands in the abdomen)\\n• chronic interstitial fibrosis (abnormal growth of con-\\nnective tissue between cells)\\n• intussusception (a type of intestinal obstruction)KEY TERMS\\nConjunctivitis —Inflammation of the conjunctiva,\\nthe mucous membrane lining the inner surfaces ofthe eyelid and the front of the eyeball.\\nVirus —A small infectious agent consisting of a\\ncore of genetic material (DNA or RNA) surround-ed by a shell of protein.\\n• pneumonia that doesn’t respond to antibiotic therapy\\n•whooping cough syndrome when Bordetella pertussis\\n(the bacterium that causes classic whooping cough) isnot found\\nCauses and symptoms\\nSpecific adenovirus infections can be traced to par-\\nticular sources and produce distinctive symptoms. Ingeneral, however, adenovirus infection is caused by:\\n• inhaling airborne viruses• getting the virus in the eyes by swimming in contami-\\nnated water, using contaminated eye solutions or instru-ments, wiping the eyes with contaminated towels, orrubbing the eyes with contaminated fingers.\\n• not washing the hands after using the bathroom, and\\nthen touching the mouth or eyes\\nSymptoms common to most types of adenovirus\\ninfections include:\\n• cough•f e v e r• runny nose• sore throat• watery eyes\\nDiagnosis\\nAlthough symptoms may suggest the presence of\\nadenovirus, distinguishing these infections from otherviruses can be difficult. A definitive diagnosis is based onculture or detection of the virus in eye secretions, spu-tum, urine, or stool.\\nThe extent of infection can be estimated from the\\nresults of blood tests that measure increases in the quan-tity of antibodies the immune system produces to fight it.Antibody levels begin to rise about a week after infectionoccurs and remain elevated for about a year.\\nGALE ENCYCLOPEDIA OF MEDICINE 2 57Adenovirus infectionsGEM - 0001 to 0432 - A  10/22/03 1:41 PM  Page 57', metadata={'page': 70.0, 'source': '..\\\\data\\\\Medical_book.pdf'})]"
      ]
     },
     "execution_count": 4,
     "metadata": {},
     "output_type": "execute_result"
    }
   ],
   "source": [
    "vectorstore = PineconeVectorStore(index_name=index_name, embedding=embeddings)\n",
    "query = \"Tell me about fever?\"\n",
    "vectorstore.similarity_search(query)"
   ]
  },
  {
   "cell_type": "code",
   "execution_count": 5,
   "metadata": {},
   "outputs": [],
   "source": [
    "prompt_template=\"\"\"\n",
    "Use the following pieces of information to answer the user's question.\n",
    "If you don't know the answer, just say that you don't know, don't try to make up an answer.\n",
    "\n",
    "Context: {context}\n",
    "Question: {question}\n",
    "\n",
    "Only return the helpful answer below and nothing else.\n",
    "Helpful answer:\n",
    "\"\"\""
   ]
  },
  {
   "cell_type": "code",
   "execution_count": 6,
   "metadata": {},
   "outputs": [],
   "source": [
    "PROMPT=PromptTemplate(template=prompt_template, input_variables=[\"context\", \"question\"])\n",
    "chain_type_kwargs={\"prompt\": PROMPT}"
   ]
  },
  {
   "cell_type": "code",
   "execution_count": 7,
   "metadata": {},
   "outputs": [],
   "source": [
    "llm=CTransformers(model=\"../model/llama-2-7b-chat.ggmlv3.q8_0.bin\",\n",
    "                  model_type=\"llama\",\n",
    "                  config={'max_new_tokens':384,\n",
    "                          'temperature':0.8})"
   ]
  },
  {
   "cell_type": "code",
   "execution_count": 8,
   "metadata": {},
   "outputs": [],
   "source": [
    "# # Load model directly\n",
    "# from transformers import AutoModel\n",
    "# model = AutoModel.from_pretrained(\"TheBloke/Llama-2-7B-Chat-GGML\")"
   ]
  },
  {
   "cell_type": "code",
   "execution_count": 7,
   "metadata": {},
   "outputs": [
    {
     "data": {
      "text/plain": [
       "{'query': 'Tell me about fever?',\n",
       " 'result': \" The symptoms (sFAQ:\\nI don's(sAnaer\\nI don's  Helpful Hint infection.docaracteriaer\\nI don's 1: ana\\nI don's 31 person, what are available at the following organisms that can you know about Anaer'sThe helpful answersHelpful answersAnswered Step 12 years ago. which can i loved On Jun 777723 months ago\\nAnnaer's\\nI don’s5 weeks .\\nI don's(s0 Helpful AnsweredIn some questions.\\nI don's \\nI don's\\nYou have a specific anaer 1AnswerExplanarians, but it's0Helpful An anaer:Thank you are available in 9/feedback to Questions 2 months ago\\nI don's\\nYou have a possible causes of Anaer. Able organisms which type infection and Expertous organisms that will befor the question at the following symptoms, what kind of anaerWhat are just a specific types of this question about Anaer:\\nDon's (10 Helpful Answered • Follow \\nI don's(sThe patient’sAnaer .\"}"
      ]
     },
     "execution_count": 7,
     "metadata": {},
     "output_type": "execute_result"
    }
   ],
   "source": [
    "qa = RetrievalQA.from_chain_type(  \n",
    "    llm=llm,  \n",
    "    chain_type=\"stuff\",  \n",
    "    retriever=vectorstore.as_retriever() \n",
    ")  \n",
    "qa.invoke(query) "
   ]
  },
  {
   "cell_type": "code",
   "execution_count": 9,
   "metadata": {},
   "outputs": [
    {
     "data": {
      "text/plain": [
       "{'query': 'Tell me about fever?',\n",
       " 'result': \"Thank you can tell us understand that drauglytically produced by bacteria bacteria bacter, ana) ___________________________________________________________________________________________________________________________________________________________________________________________________________________________An anaerobic microorganisms present infeo you'I cannot be able bacteria bacteria bacteria bacter, I apologize the patient’microbacteria bacteria bacteria bacteria bacter(3.\\nAnaerobes.\\nI can help@user'microorganisms, I cannot\\nANAnaerobic organism.\\nAn ana) Yes,\\nThe symptoms,\\nYes,\\nAn anaerobes or more detail .\\nAn anaerobic bacteria bacteria bacteria bacteria bacteria bacterobes and soft microorganisms present bacter that will dependsonal microorganisms,\\nI apologize.\",\n",
       " 'source_documents': [Document(page_content='tion, an abscess which drains foul-smelling pus, and\\npossibly fever . Symptoms for specific infections are\\nas follows:\\n• Tooth and gum infections. Swollen, tender bleeding\\ngums, bad breath , and pain . Severe infections may\\nproduce oozing sores.\\n• Throat infection. An extremely sore throat , bad breath,\\na bad taste in the mouth, fever, and a sense of choking .\\n• Lung infection. Chest pain, coughing, difficulty breath-\\ning, fever, foul-smelling sputum, and weight loss.\\n• Intraabdominal infection. Pain, fever, and possibly, if fol-\\nlowing surgery, foul- smelling drainage from the wound.\\n• Pelvic infection. Foul-smelling pus or blood draining\\nfrom the uterus, general or localized pelvic pain, fever,and chills.\\n• Skin and soft tissue infection. Infected wounds are red,\\npainful, swollen, and may drain a foul-smelling pus.Skin infection causes localized swelling, pain, redness,and possibly a painful, open sore (ulcer) which drainsfoul-smelling pus. Severe skin infections may causeextensive tissue destruction (necrosis).\\n• Bloodstream. Bloodstream invasion causes high fever\\n(up to 105°F [40.6°C]), chills, a general ill feeling, andis potentially fatal.\\nDiagnosis\\nThe diagnosis of anaerobic infection is based pri-\\nmarily on symptoms, the patient’s medical history, andlocation of the infection. A foul-smelling infection ordrainage from an abscess is diagnostic of anaerobicinfection. This foul smell is produced by anaerobic bac-teria and occurs in one third to one half of patients late inthe infection. Other clues to anaerobic infection includetissue necrosis and gas production at the infection site. Asample from the infected site may be obtained, using aswab or a needle and syringe, to determine which bacte-ria is (are) causing the infection. Because these bacteriacan be easily killed by oxygen, they rarely grow in thelaboratory cultures of tissue or pus samples.KEY TERMS\\nAbscess —A lump filled with pus resulting from an\\ninfection.\\nAnaerobic —Living and growing in the absence of\\noxygen.\\nNecrosis —Tissue death and destruction resulting\\nfrom infection or disease.The recent medical history of the patient is helpful\\nin diagnosing anaerobic infection. A patient who has orrecently had surgery, dental work, tumors, blood vesseldisease, or injury are susceptible to this infection. Thefailure to improve following treatment with antibiotics\\nthat aren’t able to kill anaerobes is another clue that theinfection is caused by anaerobes. The location and typeof infection also help in the diagnosis.\\nDiagnostic tests may include blood tests to see if\\nbacteria are in the bloodstream and x rays to look atinternal infections.\\nTreatment\\nSerious infections may require hospitalization for\\ntreatment. Immediate antibiotic treatment of anaerobicinfections is necessary. Laboratory testing may identifythe bacteria causing the infection and also which antibi-otic will work best. Every antibiotic does not workagainst all anaerobic bacteria but nearly all anaerobes arekilled by chloramphenicol (Chloromycetin), metronida-zole (Flagyl or Protostat), and imipenem (Primaxin).Other antibiotics which may be used are clindamycin(Cleocin) or cefoxitin (Mefoxin).\\nSurgical removal or drainage of the abscess is\\nalmost always required. This may involve drainage byneedle and syringe to remove the pus from a skin abscess(called “aspiration”). The area would be numbed prior tothe aspiration procedure. Also, some internal abscessescan be drained using this procedure with the help ofultrasound (a device which uses sound waves to visualizeinternal organs). This type of abscess drainage may beperformed in the doctor’s office.\\nPrognosis\\nComplete recovery should be achieved with the\\nappropriate surgery and antibiotic treatment. Untreatedor uncontrolled infections can cause severe tissue andbone destruction, which would require plastic surgery torepair. Serious infections can be life threatening.\\nPrevention\\nAlthough anaerobic infections can occur in anyone,\\ngood hygiene and general health may help to preventinfections.\\nResources\\nBOOKS\\nHarrison’s Principles of Internal Medicine. Ed. Anthony S.\\nFauci, et al. New York: McGraw-Hill, 1997.\\nBelinda Rowland, PhD\\nGALE ENCYCLOPEDIA OF MEDICINE 2 168Anaerobic infectionsGEM - 0001 to 0432 - A  10/22/03 1:42 PM  Page 168', metadata={'page': 181.0, 'source': '..\\\\data\\\\Medical_book.pdf'}),\n",
       "  Document(page_content='the inflammation and symptoms of appendicitis may dis-\\nappear but recur again later.\\nThe distinguishing symptom of appendicitis is pain\\nbeginning around or above the navel. The pain, whichmay be severe or only achy and uncomfortable, eventual-ly moves into the right lower corner of the abdomen.There, it becomes more steady and more severe, andoften increases with movement, coughing, and so forth.The abdomen often becomes rigid and tender to thetouch. Increasing rigidity and tenderness indicates anincreased likelihood of perforation and peritonitis.\\nLoss of appetite is very common. Nausea and vom-\\niting may occur in about half of the cases and occasion-\\nally there may be constipation or diarrhea . The temper-\\nature may be normal or slightly elevated. The presence ofa fever may indicate that the appendix has ruptured.\\nDiagnosis\\nA careful examination is the best way to diagnose\\nappendicitis. It is often difficult even for experiencedphysicians to distinguish the symptoms of appendicitisfrom those of other abdominal disorders. Therefore, veryspecific questioning and a thorough physical examina-\\ntion are crucial. The physician should ask questions,\\nsuch as where the pain is centered, whether the pain hasshifted, and where the pain began. The physician shouldpress on the abdomen to judge the location of the painand the degree of tenderness.\\nThe typical sequence of symptoms is present in about\\n50% of cases. In the other half of cases, less typical pat-terns may be seen, especially in pregnant women, olderpatients, and infants. In pregnant women, appendicitis iseasily masked by the frequent occurrence of mild abdom-inal pain and nausea from other causes. Elderly patientsmay feel less pain and tenderness than most patients,thereby delaying diagnosis and treatment, and leading torupture in 30% of cases. Infants and young children oftenhave diarrhea, vomiting, and fever in addition to pain.\\nWhile laboratory tests cannot establish the diagno-\\nsis, an increased white cell count may point to appendici-tis. Urinalysis may help to rule out a urinary tract infec-\\ntion that can mimic appendicitis.\\nPatients whose symptoms and physical examination\\nare compatible with a diagnosis of appendicitis are usual-ly taken immediately to surgery, where a laparotomy(surgical exploration of the abdomen) is done to confirmthe diagnosis. In cases with a questionable diagnosis,other tests, such as a computed tomography scan (CT)may be performed to avoid unnecessary surgery. Anultrasound examination of the abdomen may help toidentify an inflamed appendix or other condition thatwould explain the symptoms. Abdominal x-rays are not\\nof much value except when the appendix has ruptured.\\nOften, the diagnosis is not certain until an operation is\\ndone. To avoid a ruptured appendix, surgery may be recom-mended without delay if the symptoms point clearly toappendicitis. If the symptoms are not clear, surgery may bepostponed until they progress enough to confirm a diagnosis.\\nWhen appendicitis is strongly suspected in a woman\\nof child-bearing age, a diagnostic laparoscopy (an\\nexamination of the interior of the abdomen) is sometimesrecommended before the appendectomy in order to besure that a gynecological problem, such as a rupturedovarian cyst, is not causing the pain. In this procedure, alighted viewing tube is inserted into the abdomenthrough a small incision around the navel.\\nA normal appendix is discovered in about 10-20% of\\npatients who undergo laparotomy, because of suspectedappendicitis. Sometimes the surgeon will remove a nor-mal appendix as a safeguard against appendicitis in thefuture. During the surgery, another specific cause for thepain and symptoms of appendicitis is found for about30% of these patients.\\nTreatment\\nThe treatment of appendicitis is an immediate\\nappendectomy. This may be done by opening theabdomen in the standard open appendectomy technique,or through laparoscopy. In laparoscopy, a smaller inci-sion is made through the navel. Both methods can suc-cessfully accomplish the removal of the appendix. It isnot certain that laparoscopy holds any advantage overopen appendectomy. When the appendix has ruptured,patients undergoing a laparoscopic appendectomy mayhave to be switched to the open appendectomy procedurefor the successful management of the rupture. If a rup-tured appendix is left untreated, the condition is fatal.\\nPrognosis\\nAppendicitis is usually treated successfully by appen-\\ndectomy. Unless there are complications, the patient shouldrecover without further problems. The mortality rate incases without complications is less than 0.1%. When anappendix has ruptured, or a severe infection has developed,the likelihood is higher for complications, with slowerrecovery, or death from disease. There are higher rates ofperforation and mortality among children and the elderly.\\nPrevention\\nAppendicitis is probably not preventable, although\\nthere is some indication that a diet high in green vegeta-bles and tomatoes may help prevent appendicitis.\\nGALE ENCYCLOPEDIA OF MEDICINE 2 342AppendicitisGEM - 0001 to 0432 - A  10/22/03 1:42 PM  Page 342', metadata={'page': 355.0, 'source': '..\\\\data\\\\Medical_book.pdf'}),\n",
       "  Document(page_content='agent to spill into the bloodstream, serious or fatal conse-\\nquences are likely. Abscesses in and around the nasalsinuses, face, ears, and scalp may work their way into thebrain. Abscesses within an abdominal organ such as theliver may rupture into the abdominal cavity. In eithercase, the result is life threatening. Blood poisoning is a\\nterm commonly used to describe an infection that hasspilled into the blood stream and spread throughout thebody from a localized origin. Blood poisoning, known tophysicians as septicemia, is also life threatening.\\nOf special note, abscesses in the hand are more seri-\\nous than they might appear. Due to the intricate structureand the overriding importance of the hand, any handinfection must be treated promptly and competently.\\nPrevention\\nInfections that are treated early with heat (if superfi-\\ncial) or antibiotics will often resolve without the forma-tion of an abscess. It is even better to avoid infectionsaltogether by taking prompt care of open injuries, partic-ularly puncture wounds . Bites are the most dangerous of\\nall, even more so because they often occur on the hand.\\nResources\\nBOOKS\\nBennett, J. Claude, and Fred Plum, eds. Cecil Textbook of Med-\\nicine. Philadelphia: W. B. Saunders Co., 1996.\\nCurrent Medical Diagnosis and Treatment, 1996. 35th ed. Ed.\\nStephen McPhee, et al. Stamford: Appleton & Lange, 1995.\\nHarrison’s Principles of Internal Medicine. Ed. Anthony S.\\nFauci, et al. New York: McGraw-Hill, 1997.\\nJ. Ricker Polsdorfer, MD\\nAbscess drainage seeAbscess incision and\\ndrainage\\nAbscess incision & drainage\\nDefinition\\nAn infected skin nodule that contains pus may need to\\nbe drained via a cut if it does not respond to antibiotics .\\nThis allows the pus to escape, and the infection to heal.\\nPurpose\\nAn abscess is a pus-filled sore, usually caused by a\\nbacterial infection. The pus is made up of both live anddead organisms and destroyed tissue from the whiteblood cells that were carried to the area to fight the infec-tion. Abscesses are often found in the soft tissue underthe skin, such as the armpit or the groin. However, theymay develop in any organ, and are commonly found inthe breast and gums. Abscesses are far more serious andcall for more specific treatment if they are located indeep organs such as the lung, liver or brain.\\nBecause the lining of the abscess cavity tends to\\ninterfere with the amount of the drug that can penetratethe source of infection from the blood, the cavity itselfmay require draining. Once an abscess has fully formed,it often does not respond to antibiotics. Even if theantibiotic does penetrate into the abscess, it doesn’t func-tion as well in that environment.\\nPrecautions\\nAn abscess can usually be diagnosed visually, al-\\nthough an imaging technique such as a computed tomog-raphy scan may be used to confirm the extent of theabscess before drainage. Such procedures may also beneeded to localize internal abscesses, such as those in theabdominal cavity or brain.\\nGALE ENCYCLOPEDIA OF MEDICINE 2 15Abcess incision & drainage\\nLiver\\nStomachSpleen\\nColonCommon sites of abscess \\nabove and below the liver\\nAlthough abscesses are often found in the soft tissue under\\nthe skin, such as the armpit or the groin, they may developin any organ, such as the liver. (Illustration by Electronic Illus-\\ntrators Group.)GEM - 0001 to 0432 - A  10/22/03 1:41 PM  Page 15', metadata={'page': 28.0, 'source': '..\\\\data\\\\Medical_book.pdf'}),\n",
       "  Document(page_content='Adenoviruses also cause acute diarrhea in young\\nchildren, characterized by fever and watery stools. Thiscondition is caused by adenovirus types 40 and 41 andcan last as long as two weeks.\\nAs much as 51% of all hemorrhagic cystitis (inflam-\\nmation of the bladder and of the tubes that carry urine tothe bladder from the kidneys) in American and Japanesechildren can be attributed to adenovirus infection. Achild who has hemorrhagic cystitis has bloody urine forabout three days, and invisible traces of blood can befound in the urine a few days longer. The child will feelthe urge to urinate frequently—but find it difficult to doso—for about the same length of time.\\nAdult infections\\nIn adults, the most frequently reported adenovirus\\ninfection is acute respiratory disease (ARD, caused bytypes 4 and 7) in military recruits. Influenza-like symp-toms including fever, sore throat, runny nose, and cough\\nare almost always present; weakness, chills, headache ,\\nand swollen lymph glands in the neck may also occur.The symptoms typically last three to five days.\\nEpidemic keratoconjunctivitis (EKC, caused by ade-\\nnovirus types 8, 19, and 37) was first seen in shipyardworkers whose eyes had been slightly injured by chips ofrust or paint. This inflammation of tissues lining the eye-lid and covering the front of the eyeball can also becaused by using contaminated contact lens solutions orby drying the hands or face with a towel used by some-one who has this infection.\\nThe inflamed, sticky eyelids characteristic of con-\\njunctivitis develop 4-24 days after exposure and lastbetween one and four weeks. Only 5-8% of patients withepidemic keratoconjunctivitis experience respiratorysymptoms. One or both eyes may be affected. As symp-toms of conjunctivitis subside, eye pain and watering\\nand blurred vision develop. These symptoms of keratitis\\nmay last for several months, and about 10% of theseinfections spread to at least one other member of thepatient’s household.\\nOther illnesses associated with adenovirus include:\\n• encephalitis (inflammation of the brain) and other\\ninfections of the central nervous system (CNS)\\n• gastroenteritis (inflammation of the stomach and intes-\\ntines)\\n• acute mesenteric lymphadenitis (inflammation of\\nlymph glands in the abdomen)\\n• chronic interstitial fibrosis (abnormal growth of con-\\nnective tissue between cells)\\n• intussusception (a type of intestinal obstruction)KEY TERMS\\nConjunctivitis —Inflammation of the conjunctiva,\\nthe mucous membrane lining the inner surfaces ofthe eyelid and the front of the eyeball.\\nVirus —A small infectious agent consisting of a\\ncore of genetic material (DNA or RNA) surround-ed by a shell of protein.\\n• pneumonia that doesn’t respond to antibiotic therapy\\n•whooping cough syndrome when Bordetella pertussis\\n(the bacterium that causes classic whooping cough) isnot found\\nCauses and symptoms\\nSpecific adenovirus infections can be traced to par-\\nticular sources and produce distinctive symptoms. Ingeneral, however, adenovirus infection is caused by:\\n• inhaling airborne viruses• getting the virus in the eyes by swimming in contami-\\nnated water, using contaminated eye solutions or instru-ments, wiping the eyes with contaminated towels, orrubbing the eyes with contaminated fingers.\\n• not washing the hands after using the bathroom, and\\nthen touching the mouth or eyes\\nSymptoms common to most types of adenovirus\\ninfections include:\\n• cough•f e v e r• runny nose• sore throat• watery eyes\\nDiagnosis\\nAlthough symptoms may suggest the presence of\\nadenovirus, distinguishing these infections from otherviruses can be difficult. A definitive diagnosis is based onculture or detection of the virus in eye secretions, spu-tum, urine, or stool.\\nThe extent of infection can be estimated from the\\nresults of blood tests that measure increases in the quan-tity of antibodies the immune system produces to fight it.Antibody levels begin to rise about a week after infectionoccurs and remain elevated for about a year.\\nGALE ENCYCLOPEDIA OF MEDICINE 2 57Adenovirus infectionsGEM - 0001 to 0432 - A  10/22/03 1:41 PM  Page 57', metadata={'page': 70.0, 'source': '..\\\\data\\\\Medical_book.pdf'})]}"
      ]
     },
     "execution_count": 9,
     "metadata": {},
     "output_type": "execute_result"
    }
   ],
   "source": [
    "qa = RetrievalQA.from_chain_type(  \n",
    "    llm=llm,  \n",
    "    chain_type=\"stuff\",  \n",
    "    retriever=vectorstore.as_retriever(),\n",
    "    return_source_documents=True, \n",
    "    chain_type_kwargs=chain_type_kwargs \n",
    ")  \n",
    "qa.invoke(query) "
   ]
  },
  {
   "cell_type": "code",
   "execution_count": 26,
   "metadata": {},
   "outputs": [
    {
     "name": "stdout",
     "output_type": "stream",
     "text": [
      "Fast language models, also known as efficient language models or sparse language models, have gained significant attention in the field of natural language processing (NLP) and artificial intelligence (AI) in recent years. The importance of fast language models lies in their ability to balance the two conflicting goals of:\n",
      "\n",
      "1. **Model complexity**: To capture the rich nuances of human language, language models need to be sufficiently large and complex. This complexity is crucial for modeling human language and understanding the context of the text.\n",
      "2. **Computational efficiency**: Fast language models aim to be computationally efficient, allowing for fast inference, adaptation to new tasks, and scalability to large texts. This efficiency is essential for real-world applications where processing speed and computational resources are limited.\n",
      "\n",
      "The importance of fast language models can be summarized as follows:\n",
      "\n",
      "1. **Scalability**: Fast language models enable processing large texts, datasets, and even entire books. This scalability is crucial for applications like text classification, sentiment analysis, and information retrieval.\n",
      "2. **Real-time processing**: Due to their efficiency, fast language models can be used for real-time applications like language translation, chatbots, and virtual assistants. This allows for more responsive and dynamic interactions.\n",
      "3. **Improved deployment**: Fast language models facilitate deployment in environments with limited resources, such as mobile devices, IoT devices, or cloud computing environments.\n",
      "4. **Enhanced research**: By reducing the computational burden, fast language models enable researchers to explore new ideas, experiment with different architectures, and investigate novel applications.\n",
      "5. **Specialized applications**: Fast language models can be designed for specific use cases, such as:\n",
      "\t* **Inference engines**: Fast language models can be used to accelerate inference for specific tasks, like text classification or sentiment analysis.\n",
      "\t* **Language translation**: Fast language models can be used for real-time translation, enabling smoother communication across languages.\n",
      "\t* **Generating text**: Fast language models can be used to generate text, such as chatbot responses or article summaries, in real-time.\n",
      "6. **Advancing AI research**: Fast language models can accelerate progress in AI research by enabling the exploration of new tasks, such as:\n",
      "\t* **Multimodal learning**: Fast language models can be used to integrate multiple modalities, like images and text, for more comprehensive understanding.\n",
      "\t* **Transfer learning**: Fast language models can be used to transfer knowledge across tasks, eliminating the need for retraining from scratch.\n",
      "7. **Industrial applications**: Fast language models have the potential to transform industries, such as:\n",
      "\t* **Customer service**: Fast language models can be used for real-time customer support, resolving issues more efficiently.\n",
      "\t* **Healthcare**: Fast language models can be used for text-based diagnosis, disease prediction, and patient communication.\n",
      "\n",
      "In summary, fast language models offer a range of benefits, including scalability, real-time processing, improved deployment, and enhanced research. They have the potential to transform various industries and accelerate progress in AI research.\n"
     ]
    }
   ],
   "source": [
    "from groq import Groq\n",
    "\n",
    "client = Groq(\n",
    "    api_key=os.environ.get(\"GROQ_API_KEY\"),\n",
    ")\n",
    "\n",
    "chat_completion = client.chat.completions.create(\n",
    "    messages=[\n",
    "        {\n",
    "            \"role\": \"user\",\n",
    "            \"content\": \"Explain the importance of fast language models\",\n",
    "        }\n",
    "    ],\n",
    "    model=\"llama3-8b-8192\",\n",
    ")\n",
    "\n",
    "print(chat_completion.choices[0].message.content)\n"
   ]
  },
  {
   "cell_type": "code",
   "execution_count": 9,
   "metadata": {},
   "outputs": [
    {
     "name": "stderr",
     "output_type": "stream",
     "text": [
      "Special tokens have been added in the vocabulary, make sure the associated word embeddings are fine-tuned or trained.\n",
      "Loading checkpoint shards: 100%|██████████| 4/4 [00:00<00:00, 10.04it/s]\n",
      "WARNING:root:Some parameters are on the meta device device because they were offloaded to the cpu and disk.\n"
     ]
    }
   ],
   "source": [
    "from transformers import AutoTokenizer, AutoModelForCausalLM\n",
    "import torch\n",
    "\n",
    "model_id = \"../model/meta-llama/Meta-Llama-3-8B-Instruct\"\n",
    "\n",
    "tokenizer = AutoTokenizer.from_pretrained(model_id)\n",
    "model = AutoModelForCausalLM.from_pretrained(\n",
    "    model_id,\n",
    "    torch_dtype=torch.bfloat16,\n",
    "    device_map=\"auto\",\n",
    "    low_cpu_mem_usage=True\n",
    ")"
   ]
  },
  {
   "cell_type": "code",
   "execution_count": 9,
   "metadata": {},
   "outputs": [],
   "source": [
    "from langchain_groq import ChatGroq\n",
    "GROQ_API_KEY = os.getenv(\"GROQ_API_KEY\")\n",
    "model = ChatGroq(model=\"llama3-8b-8192\", api_key=GROQ_API_KEY)"
   ]
  },
  {
   "cell_type": "code",
   "execution_count": 10,
   "metadata": {},
   "outputs": [
    {
     "data": {
      "text/plain": [
       "{'query': 'Tell me about fever?',\n",
       " 'result': \"I don't have information about fever in the context of abscesses.\",\n",
       " 'source_documents': [Document(page_content='tion, an abscess which drains foul-smelling pus, and\\npossibly fever . Symptoms for specific infections are\\nas follows:\\n• Tooth and gum infections. Swollen, tender bleeding\\ngums, bad breath , and pain . Severe infections may\\nproduce oozing sores.\\n• Throat infection. An extremely sore throat , bad breath,\\na bad taste in the mouth, fever, and a sense of choking .\\n• Lung infection. Chest pain, coughing, difficulty breath-\\ning, fever, foul-smelling sputum, and weight loss.\\n• Intraabdominal infection. Pain, fever, and possibly, if fol-\\nlowing surgery, foul- smelling drainage from the wound.\\n• Pelvic infection. Foul-smelling pus or blood draining\\nfrom the uterus, general or localized pelvic pain, fever,and chills.\\n• Skin and soft tissue infection. Infected wounds are red,\\npainful, swollen, and may drain a foul-smelling pus.Skin infection causes localized swelling, pain, redness,and possibly a painful, open sore (ulcer) which drainsfoul-smelling pus. Severe skin infections may causeextensive tissue destruction (necrosis).\\n• Bloodstream. Bloodstream invasion causes high fever\\n(up to 105°F [40.6°C]), chills, a general ill feeling, andis potentially fatal.\\nDiagnosis\\nThe diagnosis of anaerobic infection is based pri-\\nmarily on symptoms, the patient’s medical history, andlocation of the infection. A foul-smelling infection ordrainage from an abscess is diagnostic of anaerobicinfection. This foul smell is produced by anaerobic bac-teria and occurs in one third to one half of patients late inthe infection. Other clues to anaerobic infection includetissue necrosis and gas production at the infection site. Asample from the infected site may be obtained, using aswab or a needle and syringe, to determine which bacte-ria is (are) causing the infection. Because these bacteriacan be easily killed by oxygen, they rarely grow in thelaboratory cultures of tissue or pus samples.KEY TERMS\\nAbscess —A lump filled with pus resulting from an\\ninfection.\\nAnaerobic —Living and growing in the absence of\\noxygen.\\nNecrosis —Tissue death and destruction resulting\\nfrom infection or disease.The recent medical history of the patient is helpful\\nin diagnosing anaerobic infection. A patient who has orrecently had surgery, dental work, tumors, blood vesseldisease, or injury are susceptible to this infection. Thefailure to improve following treatment with antibiotics\\nthat aren’t able to kill anaerobes is another clue that theinfection is caused by anaerobes. The location and typeof infection also help in the diagnosis.\\nDiagnostic tests may include blood tests to see if\\nbacteria are in the bloodstream and x rays to look atinternal infections.\\nTreatment\\nSerious infections may require hospitalization for\\ntreatment. Immediate antibiotic treatment of anaerobicinfections is necessary. Laboratory testing may identifythe bacteria causing the infection and also which antibi-otic will work best. Every antibiotic does not workagainst all anaerobic bacteria but nearly all anaerobes arekilled by chloramphenicol (Chloromycetin), metronida-zole (Flagyl or Protostat), and imipenem (Primaxin).Other antibiotics which may be used are clindamycin(Cleocin) or cefoxitin (Mefoxin).\\nSurgical removal or drainage of the abscess is\\nalmost always required. This may involve drainage byneedle and syringe to remove the pus from a skin abscess(called “aspiration”). The area would be numbed prior tothe aspiration procedure. Also, some internal abscessescan be drained using this procedure with the help ofultrasound (a device which uses sound waves to visualizeinternal organs). This type of abscess drainage may beperformed in the doctor’s office.\\nPrognosis\\nComplete recovery should be achieved with the\\nappropriate surgery and antibiotic treatment. Untreatedor uncontrolled infections can cause severe tissue andbone destruction, which would require plastic surgery torepair. Serious infections can be life threatening.\\nPrevention\\nAlthough anaerobic infections can occur in anyone,\\ngood hygiene and general health may help to preventinfections.\\nResources\\nBOOKS\\nHarrison’s Principles of Internal Medicine. Ed. Anthony S.\\nFauci, et al. New York: McGraw-Hill, 1997.\\nBelinda Rowland, PhD\\nGALE ENCYCLOPEDIA OF MEDICINE 2 168Anaerobic infectionsGEM - 0001 to 0432 - A  10/22/03 1:42 PM  Page 168', metadata={'page': 181.0, 'source': '..\\\\data\\\\Medical_book.pdf'}),\n",
       "  Document(page_content='the inflammation and symptoms of appendicitis may dis-\\nappear but recur again later.\\nThe distinguishing symptom of appendicitis is pain\\nbeginning around or above the navel. The pain, whichmay be severe or only achy and uncomfortable, eventual-ly moves into the right lower corner of the abdomen.There, it becomes more steady and more severe, andoften increases with movement, coughing, and so forth.The abdomen often becomes rigid and tender to thetouch. Increasing rigidity and tenderness indicates anincreased likelihood of perforation and peritonitis.\\nLoss of appetite is very common. Nausea and vom-\\niting may occur in about half of the cases and occasion-\\nally there may be constipation or diarrhea . The temper-\\nature may be normal or slightly elevated. The presence ofa fever may indicate that the appendix has ruptured.\\nDiagnosis\\nA careful examination is the best way to diagnose\\nappendicitis. It is often difficult even for experiencedphysicians to distinguish the symptoms of appendicitisfrom those of other abdominal disorders. Therefore, veryspecific questioning and a thorough physical examina-\\ntion are crucial. The physician should ask questions,\\nsuch as where the pain is centered, whether the pain hasshifted, and where the pain began. The physician shouldpress on the abdomen to judge the location of the painand the degree of tenderness.\\nThe typical sequence of symptoms is present in about\\n50% of cases. In the other half of cases, less typical pat-terns may be seen, especially in pregnant women, olderpatients, and infants. In pregnant women, appendicitis iseasily masked by the frequent occurrence of mild abdom-inal pain and nausea from other causes. Elderly patientsmay feel less pain and tenderness than most patients,thereby delaying diagnosis and treatment, and leading torupture in 30% of cases. Infants and young children oftenhave diarrhea, vomiting, and fever in addition to pain.\\nWhile laboratory tests cannot establish the diagno-\\nsis, an increased white cell count may point to appendici-tis. Urinalysis may help to rule out a urinary tract infec-\\ntion that can mimic appendicitis.\\nPatients whose symptoms and physical examination\\nare compatible with a diagnosis of appendicitis are usual-ly taken immediately to surgery, where a laparotomy(surgical exploration of the abdomen) is done to confirmthe diagnosis. In cases with a questionable diagnosis,other tests, such as a computed tomography scan (CT)may be performed to avoid unnecessary surgery. Anultrasound examination of the abdomen may help toidentify an inflamed appendix or other condition thatwould explain the symptoms. Abdominal x-rays are not\\nof much value except when the appendix has ruptured.\\nOften, the diagnosis is not certain until an operation is\\ndone. To avoid a ruptured appendix, surgery may be recom-mended without delay if the symptoms point clearly toappendicitis. If the symptoms are not clear, surgery may bepostponed until they progress enough to confirm a diagnosis.\\nWhen appendicitis is strongly suspected in a woman\\nof child-bearing age, a diagnostic laparoscopy (an\\nexamination of the interior of the abdomen) is sometimesrecommended before the appendectomy in order to besure that a gynecological problem, such as a rupturedovarian cyst, is not causing the pain. In this procedure, alighted viewing tube is inserted into the abdomenthrough a small incision around the navel.\\nA normal appendix is discovered in about 10-20% of\\npatients who undergo laparotomy, because of suspectedappendicitis. Sometimes the surgeon will remove a nor-mal appendix as a safeguard against appendicitis in thefuture. During the surgery, another specific cause for thepain and symptoms of appendicitis is found for about30% of these patients.\\nTreatment\\nThe treatment of appendicitis is an immediate\\nappendectomy. This may be done by opening theabdomen in the standard open appendectomy technique,or through laparoscopy. In laparoscopy, a smaller inci-sion is made through the navel. Both methods can suc-cessfully accomplish the removal of the appendix. It isnot certain that laparoscopy holds any advantage overopen appendectomy. When the appendix has ruptured,patients undergoing a laparoscopic appendectomy mayhave to be switched to the open appendectomy procedurefor the successful management of the rupture. If a rup-tured appendix is left untreated, the condition is fatal.\\nPrognosis\\nAppendicitis is usually treated successfully by appen-\\ndectomy. Unless there are complications, the patient shouldrecover without further problems. The mortality rate incases without complications is less than 0.1%. When anappendix has ruptured, or a severe infection has developed,the likelihood is higher for complications, with slowerrecovery, or death from disease. There are higher rates ofperforation and mortality among children and the elderly.\\nPrevention\\nAppendicitis is probably not preventable, although\\nthere is some indication that a diet high in green vegeta-bles and tomatoes may help prevent appendicitis.\\nGALE ENCYCLOPEDIA OF MEDICINE 2 342AppendicitisGEM - 0001 to 0432 - A  10/22/03 1:42 PM  Page 342', metadata={'page': 355.0, 'source': '..\\\\data\\\\Medical_book.pdf'}),\n",
       "  Document(page_content='agent to spill into the bloodstream, serious or fatal conse-\\nquences are likely. Abscesses in and around the nasalsinuses, face, ears, and scalp may work their way into thebrain. Abscesses within an abdominal organ such as theliver may rupture into the abdominal cavity. In eithercase, the result is life threatening. Blood poisoning is a\\nterm commonly used to describe an infection that hasspilled into the blood stream and spread throughout thebody from a localized origin. Blood poisoning, known tophysicians as septicemia, is also life threatening.\\nOf special note, abscesses in the hand are more seri-\\nous than they might appear. Due to the intricate structureand the overriding importance of the hand, any handinfection must be treated promptly and competently.\\nPrevention\\nInfections that are treated early with heat (if superfi-\\ncial) or antibiotics will often resolve without the forma-tion of an abscess. It is even better to avoid infectionsaltogether by taking prompt care of open injuries, partic-ularly puncture wounds . Bites are the most dangerous of\\nall, even more so because they often occur on the hand.\\nResources\\nBOOKS\\nBennett, J. Claude, and Fred Plum, eds. Cecil Textbook of Med-\\nicine. Philadelphia: W. B. Saunders Co., 1996.\\nCurrent Medical Diagnosis and Treatment, 1996. 35th ed. Ed.\\nStephen McPhee, et al. Stamford: Appleton & Lange, 1995.\\nHarrison’s Principles of Internal Medicine. Ed. Anthony S.\\nFauci, et al. New York: McGraw-Hill, 1997.\\nJ. Ricker Polsdorfer, MD\\nAbscess drainage seeAbscess incision and\\ndrainage\\nAbscess incision & drainage\\nDefinition\\nAn infected skin nodule that contains pus may need to\\nbe drained via a cut if it does not respond to antibiotics .\\nThis allows the pus to escape, and the infection to heal.\\nPurpose\\nAn abscess is a pus-filled sore, usually caused by a\\nbacterial infection. The pus is made up of both live anddead organisms and destroyed tissue from the whiteblood cells that were carried to the area to fight the infec-tion. Abscesses are often found in the soft tissue underthe skin, such as the armpit or the groin. However, theymay develop in any organ, and are commonly found inthe breast and gums. Abscesses are far more serious andcall for more specific treatment if they are located indeep organs such as the lung, liver or brain.\\nBecause the lining of the abscess cavity tends to\\ninterfere with the amount of the drug that can penetratethe source of infection from the blood, the cavity itselfmay require draining. Once an abscess has fully formed,it often does not respond to antibiotics. Even if theantibiotic does penetrate into the abscess, it doesn’t func-tion as well in that environment.\\nPrecautions\\nAn abscess can usually be diagnosed visually, al-\\nthough an imaging technique such as a computed tomog-raphy scan may be used to confirm the extent of theabscess before drainage. Such procedures may also beneeded to localize internal abscesses, such as those in theabdominal cavity or brain.\\nGALE ENCYCLOPEDIA OF MEDICINE 2 15Abcess incision & drainage\\nLiver\\nStomachSpleen\\nColonCommon sites of abscess \\nabove and below the liver\\nAlthough abscesses are often found in the soft tissue under\\nthe skin, such as the armpit or the groin, they may developin any organ, such as the liver. (Illustration by Electronic Illus-\\ntrators Group.)GEM - 0001 to 0432 - A  10/22/03 1:41 PM  Page 15', metadata={'page': 28.0, 'source': '..\\\\data\\\\Medical_book.pdf'}),\n",
       "  Document(page_content='Adenoviruses also cause acute diarrhea in young\\nchildren, characterized by fever and watery stools. Thiscondition is caused by adenovirus types 40 and 41 andcan last as long as two weeks.\\nAs much as 51% of all hemorrhagic cystitis (inflam-\\nmation of the bladder and of the tubes that carry urine tothe bladder from the kidneys) in American and Japanesechildren can be attributed to adenovirus infection. Achild who has hemorrhagic cystitis has bloody urine forabout three days, and invisible traces of blood can befound in the urine a few days longer. The child will feelthe urge to urinate frequently—but find it difficult to doso—for about the same length of time.\\nAdult infections\\nIn adults, the most frequently reported adenovirus\\ninfection is acute respiratory disease (ARD, caused bytypes 4 and 7) in military recruits. Influenza-like symp-toms including fever, sore throat, runny nose, and cough\\nare almost always present; weakness, chills, headache ,\\nand swollen lymph glands in the neck may also occur.The symptoms typically last three to five days.\\nEpidemic keratoconjunctivitis (EKC, caused by ade-\\nnovirus types 8, 19, and 37) was first seen in shipyardworkers whose eyes had been slightly injured by chips ofrust or paint. This inflammation of tissues lining the eye-lid and covering the front of the eyeball can also becaused by using contaminated contact lens solutions orby drying the hands or face with a towel used by some-one who has this infection.\\nThe inflamed, sticky eyelids characteristic of con-\\njunctivitis develop 4-24 days after exposure and lastbetween one and four weeks. Only 5-8% of patients withepidemic keratoconjunctivitis experience respiratorysymptoms. One or both eyes may be affected. As symp-toms of conjunctivitis subside, eye pain and watering\\nand blurred vision develop. These symptoms of keratitis\\nmay last for several months, and about 10% of theseinfections spread to at least one other member of thepatient’s household.\\nOther illnesses associated with adenovirus include:\\n• encephalitis (inflammation of the brain) and other\\ninfections of the central nervous system (CNS)\\n• gastroenteritis (inflammation of the stomach and intes-\\ntines)\\n• acute mesenteric lymphadenitis (inflammation of\\nlymph glands in the abdomen)\\n• chronic interstitial fibrosis (abnormal growth of con-\\nnective tissue between cells)\\n• intussusception (a type of intestinal obstruction)KEY TERMS\\nConjunctivitis —Inflammation of the conjunctiva,\\nthe mucous membrane lining the inner surfaces ofthe eyelid and the front of the eyeball.\\nVirus —A small infectious agent consisting of a\\ncore of genetic material (DNA or RNA) surround-ed by a shell of protein.\\n• pneumonia that doesn’t respond to antibiotic therapy\\n•whooping cough syndrome when Bordetella pertussis\\n(the bacterium that causes classic whooping cough) isnot found\\nCauses and symptoms\\nSpecific adenovirus infections can be traced to par-\\nticular sources and produce distinctive symptoms. Ingeneral, however, adenovirus infection is caused by:\\n• inhaling airborne viruses• getting the virus in the eyes by swimming in contami-\\nnated water, using contaminated eye solutions or instru-ments, wiping the eyes with contaminated towels, orrubbing the eyes with contaminated fingers.\\n• not washing the hands after using the bathroom, and\\nthen touching the mouth or eyes\\nSymptoms common to most types of adenovirus\\ninfections include:\\n• cough•f e v e r• runny nose• sore throat• watery eyes\\nDiagnosis\\nAlthough symptoms may suggest the presence of\\nadenovirus, distinguishing these infections from otherviruses can be difficult. A definitive diagnosis is based onculture or detection of the virus in eye secretions, spu-tum, urine, or stool.\\nThe extent of infection can be estimated from the\\nresults of blood tests that measure increases in the quan-tity of antibodies the immune system produces to fight it.Antibody levels begin to rise about a week after infectionoccurs and remain elevated for about a year.\\nGALE ENCYCLOPEDIA OF MEDICINE 2 57Adenovirus infectionsGEM - 0001 to 0432 - A  10/22/03 1:41 PM  Page 57', metadata={'page': 70.0, 'source': '..\\\\data\\\\Medical_book.pdf'})]}"
      ]
     },
     "execution_count": 10,
     "metadata": {},
     "output_type": "execute_result"
    }
   ],
   "source": [
    "qa = RetrievalQA.from_chain_type(  \n",
    "    llm=model,  \n",
    "    chain_type=\"stuff\",  \n",
    "    retriever=vectorstore.as_retriever(),\n",
    "    return_source_documents=True, \n",
    "    chain_type_kwargs=chain_type_kwargs \n",
    ")  \n",
    "qa.invoke(query) "
   ]
  },
  {
   "cell_type": "code",
   "execution_count": null,
   "metadata": {},
   "outputs": [],
   "source": []
  }
 ],
 "metadata": {
  "kernelspec": {
   "display_name": "Python 3",
   "language": "python",
   "name": "python3"
  },
  "language_info": {
   "codemirror_mode": {
    "name": "ipython",
    "version": 3
   },
   "file_extension": ".py",
   "mimetype": "text/x-python",
   "name": "python",
   "nbconvert_exporter": "python",
   "pygments_lexer": "ipython3",
   "version": "3.8.19"
  }
 },
 "nbformat": 4,
 "nbformat_minor": 2
}
